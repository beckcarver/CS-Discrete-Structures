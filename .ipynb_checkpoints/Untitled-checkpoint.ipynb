{
 "cells": [
  {
   "cell_type": "code",
   "execution_count": null,
   "metadata": {},
   "outputs": [],
   "source": []
  }
 ],
 "metadata": {
  "kernelspec": {
   "display_name": "ACL2",
   "language": "acl2",
   "name": "acl2"
  },
  "language_info": {
   "codemirror_mode": "Common Lisp",
   "file_extension": ".lisp",
   "mimetype": "text/x-common-lisp",
   "name": "acl2"
  }
 },
 "nbformat": 4,
 "nbformat_minor": 4
}
